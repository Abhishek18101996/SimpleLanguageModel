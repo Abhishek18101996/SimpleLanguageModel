{
 "cells": [
  {
   "cell_type": "markdown",
   "id": "3768f521",
   "metadata": {},
   "source": [
    "# Assignment - 8\n",
    "\n",
    "In this assignment, we have to improve the test accuracy of \"ml-2hh-mnist-nobias\" notebook\n",
    "\n",
    "Authors - Devesh Surve, Abhishek Jaiswal"
   ]
  },
  {
   "cell_type": "markdown",
   "id": "24ccf38d",
   "metadata": {},
   "source": [
    "## Importing the requisite libraries"
   ]
  },
  {
   "cell_type": "code",
   "execution_count": 1,
   "id": "973f95f1",
   "metadata": {},
   "outputs": [],
   "source": [
    "import numpy as np\n",
    "from urllib import request\n",
    "import gzip\n",
    "import pickle"
   ]
  },
  {
   "cell_type": "markdown",
   "id": "e5643620",
   "metadata": {},
   "source": [
    "## Downloading data"
   ]
  },
  {
   "cell_type": "code",
   "execution_count": 2,
   "id": "91622440",
   "metadata": {},
   "outputs": [],
   "source": [
    "filename = [\n",
    "    [\"training_images\",\"train-images-idx3-ubyte.gz\"],\n",
    "    [\"test_images\",\"t10k-images-idx3-ubyte.gz\"],\n",
    "    [\"training_labels\",\"train-labels-idx1-ubyte.gz\"],\n",
    "    [\"test_labels\",\"t10k-labels-idx1-ubyte.gz\"]\n",
    "]\n",
    "\n",
    "def download_mnist():\n",
    "    base_url = \"http://yann.lecun.com/exdb/mnist/\"\n",
    "    for name in filename:\n",
    "        print(\"Downloading \"+name[1]+\"...\")\n",
    "        request.urlretrieve(base_url+name[1], name[1])\n",
    "    print(\"Download complete.\")\n",
    "\n",
    "def save_mnist():\n",
    "    mnist = {}\n",
    "    for name in filename[:2]:\n",
    "        with gzip.open(name[1], 'rb') as f:\n",
    "            mnist[name[0]] = np.frombuffer(f.read(), np.uint8, offset=16).reshape(-1,28*28)\n",
    "    for name in filename[-2:]:\n",
    "        with gzip.open(name[1], 'rb') as f:\n",
    "            mnist[name[0]] = np.frombuffer(f.read(), np.uint8, offset=8)\n",
    "    with open(\"mnist.pkl\", 'wb') as f:\n",
    "        pickle.dump(mnist,f)\n",
    "    print(\"Save complete.\")"
   ]
  },
  {
   "cell_type": "code",
   "execution_count": 3,
   "id": "cae5a0a7",
   "metadata": {
    "scrolled": false
   },
   "outputs": [
    {
     "name": "stdout",
     "output_type": "stream",
     "text": [
      "Downloading train-images-idx3-ubyte.gz...\n",
      "Downloading t10k-images-idx3-ubyte.gz...\n",
      "Downloading train-labels-idx1-ubyte.gz...\n",
      "Downloading t10k-labels-idx1-ubyte.gz...\n",
      "Download complete.\n",
      "Save complete.\n"
     ]
    }
   ],
   "source": [
    "download_mnist()\n",
    "save_mnist()"
   ]
  },
  {
   "cell_type": "markdown",
   "id": "5a551950",
   "metadata": {},
   "source": [
    "## Loading the training and testing data"
   ]
  },
  {
   "cell_type": "code",
   "execution_count": 4,
   "id": "afe4a9fd",
   "metadata": {},
   "outputs": [],
   "source": [
    "def load():\n",
    "    with open(\"mnist.pkl\",'rb') as f:\n",
    "        mnist = pickle.load(f)\n",
    "    return mnist[\"training_images\"], mnist[\"training_labels\"], mnist[\"test_images\"], mnist[\"test_labels\"]"
   ]
  },
  {
   "cell_type": "code",
   "execution_count": 5,
   "id": "29377d79",
   "metadata": {},
   "outputs": [],
   "source": [
    "X_train, y_train, X_test, y_test = load()"
   ]
  },
  {
   "cell_type": "code",
   "execution_count": 6,
   "id": "cce9951b",
   "metadata": {
    "scrolled": true
   },
   "outputs": [
    {
     "data": {
      "text/plain": [
       "((60000, 784), (60000,), (10000, 784), (10000,))"
      ]
     },
     "execution_count": 6,
     "metadata": {},
     "output_type": "execute_result"
    }
   ],
   "source": [
    "X_train.shape, y_train.shape, X_test.shape, y_test.shape"
   ]
  },
  {
   "cell_type": "markdown",
   "id": "a03e04a1",
   "metadata": {},
   "source": [
    "## Preparing and Normalizing data"
   ]
  },
  {
   "cell_type": "code",
   "execution_count": 7,
   "id": "eec0f086",
   "metadata": {},
   "outputs": [],
   "source": [
    "def norm(X, x_min, x_max):\n",
    "    nom = (X - X.min(axis=0)) * (x_max-x_min)\n",
    "    denom = X.max(axis=0) - X.min(axis=0)\n",
    "    denom[denom==0] = 1\n",
    "    return x_min + nom/denom "
   ]
  },
  {
   "cell_type": "code",
   "execution_count": 8,
   "id": "bc31a9ea",
   "metadata": {},
   "outputs": [],
   "source": [
    "def prep_data(X, y):\n",
    "\n",
    "    X_ = []\n",
    "    y_ = []\n",
    "\n",
    "    itr = int(len(y) / batch_size) + 1\n",
    "    for j in range(1, itr):\n",
    "        rng = j * batch_size\n",
    "        X_.append(X[rng - batch_size : rng, :])\n",
    "        y_.append(y[rng - batch_size : rng])\n",
    "\n",
    "    X, y = np.array(X_), np.array(y_)\n",
    "    X = norm(X, 0, 1)\n",
    "\n",
    "    return X, y"
   ]
  },
  {
   "cell_type": "markdown",
   "id": "1b301a2f",
   "metadata": {},
   "source": [
    "## Best Hyperparameters For Training"
   ]
  },
  {
   "cell_type": "code",
   "execution_count": 9,
   "id": "525cc35a",
   "metadata": {},
   "outputs": [],
   "source": [
    "eta=0.01\n",
    "alpha=0.01\n",
    "n_iter=50\n",
    "batch_size=100"
   ]
  },
  {
   "cell_type": "code",
   "execution_count": 10,
   "id": "33e9a7ec",
   "metadata": {},
   "outputs": [],
   "source": [
    "X_train, y_train = prep_data(X_train, y_train)"
   ]
  },
  {
   "cell_type": "code",
   "execution_count": 11,
   "id": "34ed9aad",
   "metadata": {},
   "outputs": [
    {
     "data": {
      "text/plain": [
       "((600, 100, 784), (600, 100))"
      ]
     },
     "execution_count": 11,
     "metadata": {},
     "output_type": "execute_result"
    }
   ],
   "source": [
    "X_train.shape, y_train.shape"
   ]
  },
  {
   "cell_type": "markdown",
   "id": "7bbc3011",
   "metadata": {},
   "source": [
    "Let's one-hot encode our labels so that instead of many categories denoted by integers one through 10, we only have two categories: `0` and `1`, albeit in more dimensions."
   ]
  },
  {
   "cell_type": "markdown",
   "id": "c477f492",
   "metadata": {},
   "source": [
    "## One hot encoding of data"
   ]
  },
  {
   "cell_type": "code",
   "execution_count": 12,
   "id": "05658499",
   "metadata": {},
   "outputs": [],
   "source": [
    "def one_hot_enc(y, num_labels=10):\n",
    "    one_hot = np.zeros((num_labels, y.shape[0]), dtype=np.float32)\n",
    "\n",
    "    for i, val in enumerate(y):\n",
    "        one_hot[val,i] = 1.0\n",
    "\n",
    "    return one_hot"
   ]
  },
  {
   "cell_type": "code",
   "execution_count": 13,
   "id": "b0c925b0",
   "metadata": {},
   "outputs": [],
   "source": [
    "def one_hot_enc_v2(y, num_labels=10):\n",
    "    one_hot = np.zeros((y.shape[0], num_labels), dtype=np.float32)\n",
    "\n",
    "    for i, val in enumerate(y):\n",
    "        one_hot[i,val] = 1.0\n",
    "\n",
    "    return one_hot"
   ]
  },
  {
   "cell_type": "markdown",
   "id": "98511555",
   "metadata": {},
   "source": [
    "Let's initialize our weights:"
   ]
  },
  {
   "cell_type": "code",
   "execution_count": 14,
   "id": "171b4c4d",
   "metadata": {},
   "outputs": [],
   "source": [
    "def init_weights(n_input, n_hidden_1, n_hidden_2, n_output, batch_size):\n",
    "    #w1 = np.random.randn(n_hidden_1, n_input + 1)\n",
    "    #w2 = np.random.randn(n_hidden_2, n_hidden_1 + 1)\n",
    "    #w3 = np.random.randn(n_output, n_hidden_2 + 1)\n",
    "    \n",
    "    w1 = np.random.randn(n_input, n_hidden_1)\n",
    "    w2 = np.random.randn(n_hidden_1, n_hidden_2)\n",
    "    w3 = np.random.randn(n_hidden_2, n_output)\n",
    "    \n",
    "    return w1, w2, w3"
   ]
  },
  {
   "cell_type": "markdown",
   "id": "20dff60f",
   "metadata": {},
   "source": [
    "Binary cross-entropy loss:"
   ]
  },
  {
   "cell_type": "code",
   "execution_count": 15,
   "id": "3c042dca",
   "metadata": {},
   "outputs": [],
   "source": [
    "def compute_loss(prediction, label):\n",
    "    term_1 = -1*label * np.log(prediction)\n",
    "    term_2 = (1 - label) * (np.log(1 - prediction))\n",
    "\n",
    "    loss = np.sum(term_1 - term_2)\n",
    "    return loss"
   ]
  },
  {
   "cell_type": "markdown",
   "id": "07cd9ea1",
   "metadata": {},
   "source": [
    "Initialize the number of neurons per layer:"
   ]
  },
  {
   "cell_type": "code",
   "execution_count": 16,
   "id": "1b82cb41",
   "metadata": {},
   "outputs": [
    {
     "data": {
      "text/plain": [
       "784"
      ]
     },
     "execution_count": 16,
     "metadata": {},
     "output_type": "execute_result"
    }
   ],
   "source": [
    "n_hidden_1, n_hidden_2, n_output = 100, 100, 10\n",
    "n_input = len(X_train[0,0,:]) #returns the flattened image size (28*28 = 784)\n",
    "n_input"
   ]
  },
  {
   "cell_type": "markdown",
   "id": "20664283",
   "metadata": {},
   "source": [
    "## Initializing the weights"
   ]
  },
  {
   "cell_type": "code",
   "execution_count": 17,
   "id": "a1a10c9b",
   "metadata": {},
   "outputs": [],
   "source": [
    "w1, w2, w3 = init_weights(n_input, n_hidden_1, n_hidden_2, n_output, batch_size)"
   ]
  },
  {
   "cell_type": "code",
   "execution_count": 18,
   "id": "8af125bc",
   "metadata": {},
   "outputs": [
    {
     "data": {
      "text/plain": [
       "((784, 100), (100, 100), (100, 10))"
      ]
     },
     "execution_count": 18,
     "metadata": {},
     "output_type": "execute_result"
    }
   ],
   "source": [
    "w1.shape, w2.shape, w3.shape"
   ]
  },
  {
   "cell_type": "markdown",
   "id": "f4bb7d57",
   "metadata": {},
   "source": [
    "Initialize Markovian weight history, losses and accuracy per epoch:"
   ]
  },
  {
   "cell_type": "code",
   "execution_count": 19,
   "id": "04258e17",
   "metadata": {},
   "outputs": [],
   "source": [
    "delta_w1_prev = np.zeros(w1.shape)\n",
    "delta_w2_prev = np.zeros(w2.shape)\n",
    "delta_w3_prev = np.zeros(w3.shape)\n",
    "\n",
    "train_losses = []\n",
    "train_acc = []"
   ]
  },
  {
   "cell_type": "markdown",
   "id": "fb1be22a",
   "metadata": {},
   "source": [
    "This is how we denotate network parameters:\n",
    "\n",
    "`a1` is the input data, `a2` is the output of hidden layer 1, `a3` is the output of hidden layer 2, `a4` is the output of the final layer.\n",
    "\n",
    "`z2` is the linear output of hidden layer 1 *before its activation function*, `z3` is the linear output of hidden layer 2 *before its activation function*, `z4` is the linear output of the final layer *before its activation function*.\n",
    "\n",
    "Here is how we sample our inputs:"
   ]
  },
  {
   "cell_type": "code",
   "execution_count": 20,
   "id": "4c1b40c1",
   "metadata": {},
   "outputs": [
    {
     "name": "stdout",
     "output_type": "stream",
     "text": [
      "(600, 100, 784) (600, 100)\n"
     ]
    }
   ],
   "source": [
    "print(X_train.shape, y_train.shape)"
   ]
  },
  {
   "cell_type": "markdown",
   "id": "ecb0f143",
   "metadata": {},
   "source": [
    "Each batch of observations consists of 50 28x828 images sliced as a 784 vector:"
   ]
  },
  {
   "cell_type": "code",
   "execution_count": 21,
   "id": "d6a84b35",
   "metadata": {},
   "outputs": [
    {
     "name": "stdout",
     "output_type": "stream",
     "text": [
      "0 (100, 784) (100,) (100, 10)\n",
      "0 (784, 100) (100,) (100, 10)\n",
      "0 (784, 100) (100,) (100, 10)\n"
     ]
    }
   ],
   "source": [
    "for j, (inputs, label) in enumerate(zip(X_train, y_train)):\n",
    "    print(j, inputs.shape, label.shape, one_hot_enc_v2(label).shape)\n",
    "    print(j, inputs.transpose().shape, label.shape, one_hot_enc_v2(label).shape)\n",
    "    print(j, inputs.transpose(1,0).shape, label.shape, one_hot_enc_v2(label).shape)\n",
    "    break"
   ]
  },
  {
   "cell_type": "code",
   "execution_count": 22,
   "id": "23431ef0",
   "metadata": {},
   "outputs": [
    {
     "name": "stdout",
     "output_type": "stream",
     "text": [
      "[0. 0. 0. 0. 0. 1. 0. 0. 0. 0.]\n",
      "[0. 0. 0. 0. 0. 1. 0. 0. 0. 0.]\n",
      "[0. 1. 0. 0. 0. 0. 0. 0. 0. 0.]\n",
      "[0. 0. 0. 0. 0. 0. 0. 0. 1. 0.]\n",
      "[0. 0. 1. 0. 0. 0. 0. 0. 0. 0.]\n",
      "[0. 0. 0. 1. 0. 0. 0. 0. 0. 0.]\n",
      "[0. 0. 0. 0. 0. 0. 0. 0. 0. 1.]\n",
      "[0. 0. 0. 0. 1. 0. 0. 0. 0. 0.]\n",
      "[0. 0. 0. 0. 0. 0. 0. 0. 0. 1.]\n",
      "[0. 0. 0. 0. 0. 0. 0. 0. 0. 1.]\n",
      "[1. 0. 0. 0. 0. 0. 0. 0. 0. 0.]\n",
      "[0. 0. 0. 0. 0. 0. 1. 0. 0. 0.]\n"
     ]
    }
   ],
   "source": [
    "for j, (inputs, label) in enumerate(zip(X_train, y_train)):\n",
    "    print(one_hot_enc_v2(label)[0,:])\n",
    "    if 10 < j: break"
   ]
  },
  {
   "cell_type": "markdown",
   "id": "c45a0505",
   "metadata": {},
   "source": [
    "Note that in our previous notebook, each observation was 25-dimensional, and we had 608 of them, so we had an input vector of shape $[608, 25]$. We had a single output neuron and an output of shape $[608, 1]$.\n",
    "\n",
    "Here, each observation is 784 dimensional, and we have 50 of them, so we have an input vector of shape $[50, 784]$. We have 10 output neurons and an output shape of $[50, 10]$."
   ]
  },
  {
   "cell_type": "code",
   "execution_count": 23,
   "id": "3d3e44fb",
   "metadata": {},
   "outputs": [
    {
     "data": {
      "text/plain": [
       "((784, 100), (100, 100), (100, 10))"
      ]
     },
     "execution_count": 23,
     "metadata": {},
     "output_type": "execute_result"
    }
   ],
   "source": [
    "w1.shape, w2.shape, w3.shape"
   ]
  },
  {
   "cell_type": "markdown",
   "id": "8309a0b4",
   "metadata": {},
   "source": [
    "Let's compute the feedforward pass one layer at a time:"
   ]
  },
  {
   "cell_type": "code",
   "execution_count": 24,
   "id": "14dd667f",
   "metadata": {},
   "outputs": [
    {
     "name": "stdout",
     "output_type": "stream",
     "text": [
      "inputs: (100, 784)\n",
      "layer 1: weights (784, 100) mini-batched output: (100, 100)\n",
      "layer 2: weights (100, 100) mini-batched output: (100, 100)\n",
      "layer 2: weights (100, 10) mini-batched output: (100, 10)\n"
     ]
    }
   ],
   "source": [
    "for j, (inputs, label) in enumerate(zip(X_train, y_train)):\n",
    "    a1 = inputs\n",
    "    print(\"inputs:\", a1.shape)\n",
    "    \n",
    "    # outputs of first hidden layer\n",
    "    z2 = np.matmul(a1, w1)\n",
    "    a2 = 1/(1 + np.exp(-z2))\n",
    "    print(\"layer 1: weights\", w1.shape, \"mini-batched output:\", a2.shape)\n",
    "    \n",
    "    # outputs of second hidden layer\n",
    "    z3 = np.matmul(a2, w2)\n",
    "    a3 = 1/(1 + np.exp(-z3))\n",
    "    print(\"layer 2: weights\", w2. shape, \"mini-batched output:\", a3.shape)\n",
    "    \n",
    "    # outputs of final layer\n",
    "    z4 = np.matmul(a3, w3)\n",
    "    a4 = 1/(1 + np.exp(-z4))\n",
    "    print(\"layer 2: weights\", w3.shape, \"mini-batched output:\", a4.shape)\n",
    "    \n",
    "    break"
   ]
  },
  {
   "cell_type": "markdown",
   "id": "eac26d8d",
   "metadata": {},
   "source": [
    "Here is the full code for the **feedforward pass** (we return input and all outputs):"
   ]
  },
  {
   "cell_type": "code",
   "execution_count": 25,
   "id": "dd794910",
   "metadata": {},
   "outputs": [],
   "source": [
    "def compute_forward_pass(inputs):   \n",
    "    a1 = inputs\n",
    "\n",
    "    # outputs of first hidden layer\n",
    "    z2 = np.matmul(a1, w1)\n",
    "    a2 = 1/(1 + np.exp(-z2))\n",
    "\n",
    "    # outputs of second hidden layer\n",
    "    z3 = np.matmul(a2, w2)\n",
    "    a3 = 1/(1 + np.exp(-z3))\n",
    "\n",
    "    # outputs of final layer\n",
    "    z4 = np.matmul(a3, w3)\n",
    "    a4 = 1/(1 + np.exp(-z4))\n",
    "    \n",
    "    return a1, z2, a2, z3, a3, z4, a4"
   ]
  },
  {
   "cell_type": "markdown",
   "id": "be91ded8",
   "metadata": {},
   "source": [
    "Here's our activation and its derivative:"
   ]
  },
  {
   "cell_type": "code",
   "execution_count": 26,
   "id": "d8909706",
   "metadata": {},
   "outputs": [],
   "source": [
    "def sigmoid(x):\n",
    "    try:\n",
    "        x = np.vectorize(round)(x)\n",
    "        return 1.0/(1+ np.exp(-x))\n",
    "    except:\n",
    "        print(x)\n",
    "        print(np.exp(-x))\n",
    "        return 1.0/(1+ np.exp(-x))"
   ]
  },
  {
   "cell_type": "code",
   "execution_count": 27,
   "id": "4922d8ef",
   "metadata": {},
   "outputs": [],
   "source": [
    "def sigmoid_derivative(x):\n",
    "    return sigmoid(x) * (1.0 - sigmoid(x))"
   ]
  },
  {
   "cell_type": "markdown",
   "id": "d9fafd30",
   "metadata": {},
   "source": [
    "Here's the backpropagation pass:"
   ]
  },
  {
   "cell_type": "code",
   "execution_count": 28,
   "id": "dcefef0f",
   "metadata": {},
   "outputs": [],
   "source": [
    "def compute_backward_pass_fullmath(outputs, label, verbose=False):\n",
    "    a1, z2, a2, z3, a3, z4, a4 = outputs\n",
    "\n",
    "    #\n",
    "    # LAST LAYER\n",
    "    #\n",
    "    \n",
    "    # from ml-dense-pruned:\n",
    "    # sigmoid_derivative_3 = sigmoid_derivative(np.dot(self.layer2, self.weights3)) # s'(W3 z) derivative of final layer output\n",
    "    # d_weights3 = np.dot(self.layer2.T, \n",
    "    #                        (2*(self.y - self.output) * sigmoid_derivative_3))\n",
    "    sigmoid_derivative_3 = sigmoid_derivative(np.dot(a3, w3)) # s'(W3 z) derivative of final layer output [50, 10]\n",
    "    if verbose: print(\"sigmoid_derivative_3:\", sigmoid_derivative_3.shape, \"should be [50, 10]\")\n",
    "    d_weights3 = np.dot(a3.T, \n",
    "                           (2 * (label - a4) * sigmoid_derivative_3)) # [50, 100].T * [50, 10]\n",
    "    if verbose: print(\"d_weights3:\", d_weights3.shape, \"should be [100, 10]\")\n",
    "    \n",
    "    \n",
    "    # \n",
    "    # 2ND HIDDEN LAYER\n",
    "    #\n",
    "\n",
    "    # from ml-dense-pruned:\n",
    "    # sigmoid_derivative_2 = sigmoid_derivative(np.dot(self.layer1, self.weights2)) # s'(r W2) derivative of hidden layer 2 out\n",
    "    # d_weights2 = np.dot(self.layer1.T,  \n",
    "    #                        np.dot(2*(self.y - self.output) * sigmoid_derivative_3, self.weights3.T) * \n",
    "    #                        sigmoid_derivative_2)\n",
    "    sigmoid_derivative_2 = sigmoid_derivative(np.dot(a2, w2)) # s'(r W2) derivative of hidden layer 2 out\n",
    "    if verbose: print(\"sigmoid_derivative_2:\", sigmoid_derivative_2.shape, \"should be [50, 100]\")\n",
    "    d_weights2 = np.dot(a2.T,  \n",
    "                        np.dot((2 * (label - a4) * sigmoid_derivative_3), w3.T) * \n",
    "                        sigmoid_derivative_2) # [50, 100].T * ([50, 10] * [100, 10].T)[50, 100] = [50, 100].T * [50, 100] \n",
    "                                                                                                # = [100, 100]\n",
    "    if verbose: print(\"d_weights2:\", d_weights2.shape, \"should be [100, 100]\")\n",
    "    \n",
    "    \n",
    "    # \n",
    "    # 1ST HIDDEN LAYER\n",
    "    #\n",
    "    \n",
    "    # from ml-dense-pruned:\n",
    "    # sigmoid_derivative_1 = sigmoid_derivative(np.dot(self.input, self.weights1))  # s'(x W1) derivative of hidden layer 1 out\n",
    "    # d_weights1 = np.dot(self.input.T,  \n",
    "    #                        np.dot(\n",
    "    #                            np.dot(2*(self.y - self.output) * sigmoid_derivative_3, self.weights3.T) *\n",
    "    #                                sigmoid_derivative_2, self.weights2.T) *   \n",
    "    #                        sigmoid_derivative_1)\n",
    "    sigmoid_derivative_1 = sigmoid_derivative(np.dot(a1, w1))  # s'(x W1) derivative of hidden layer 1 out [50, 100]\n",
    "    if verbose: print(\"sigmoid_derivative_1:\", sigmoid_derivative_1.shape, \"should be [50, 100]\")\n",
    "    d_weights1 = np.dot(a1.T,  \n",
    "                           np.dot(\n",
    "                               np.dot((2 * (label - a4) * sigmoid_derivative_3), w3.T) *\n",
    "                                   sigmoid_derivative_2, w2.T) *   \n",
    "                           sigmoid_derivative_1) # [50, 784].T * (([50, 100] * [100, 100].T) . [50, 100]) * [100, 100].T)\n",
    "                                                # = [50, 784].T * [50, 100] * [100, 100].T\n",
    "                                                # = [50, 784].T * [50, 100].T\n",
    "                                                # = [784, 100]\n",
    "    if verbose: print(\"d_weights1:\", d_weights1.shape, \"should be [784, 100]\")\n",
    "\n",
    "    return d_weights1, d_weights2, d_weights3"
   ]
  },
  {
   "cell_type": "markdown",
   "id": "98f47361",
   "metadata": {},
   "source": [
    "Here's how we predict from the output of 10 neurons, representing the digit predicted in a one-hot encoded fashion:"
   ]
  },
  {
   "cell_type": "code",
   "execution_count": 29,
   "id": "6554a432",
   "metadata": {},
   "outputs": [],
   "source": [
    "def predict(a4):\n",
    "    prediction = np.argmax(a4, axis=1)\n",
    "    return prediction"
   ]
  },
  {
   "cell_type": "code",
   "execution_count": 30,
   "id": "58eb2cf4",
   "metadata": {},
   "outputs": [
    {
     "name": "stdout",
     "output_type": "stream",
     "text": [
      "True\n"
     ]
    }
   ],
   "source": [
    "for j, (inputs, label) in enumerate(zip(X_train, y_train)):\n",
    "    print(np.any(inputs))\n",
    "    break"
   ]
  },
  {
   "cell_type": "markdown",
   "id": "c3771b5f",
   "metadata": {},
   "source": [
    "Let's debug *one batch* of one epoch:"
   ]
  },
  {
   "cell_type": "code",
   "execution_count": 31,
   "id": "f05403ba",
   "metadata": {},
   "outputs": [
    {
     "name": "stdout",
     "output_type": "stream",
     "text": [
      "feedforward outputs: (100, 784) (100, 100) (100, 100) (100, 10)\n",
      "loss 1564.6864476153412\n",
      "sigmoid_derivative_3: (100, 10) should be [50, 10]\n",
      "d_weights3: (100, 10) should be [100, 10]\n",
      "sigmoid_derivative_2: (100, 100) should be [50, 100]\n",
      "d_weights2: (100, 100) should be [100, 100]\n",
      "sigmoid_derivative_1: (100, 100) should be [50, 100]\n",
      "d_weights1: (784, 100) should be [784, 100]\n"
     ]
    }
   ],
   "source": [
    "for i in range(n_iter):\n",
    "    for (input, label) in zip(X_train, y_train):\n",
    "        one_hot_label = one_hot_enc_v2(label, num_labels=10)\n",
    "\n",
    "        a1, z2, a2, z3, a3, z4, a4 = compute_forward_pass(input)\n",
    "        print(\"feedforward outputs:\", a1.shape, a2.shape, a3.shape, a4.shape)\n",
    "        \n",
    "        loss = compute_loss(a4, one_hot_label)\n",
    "        print(\"loss\", loss)\n",
    "        \n",
    "        grad1, grad2, grad3 = compute_backward_pass_fullmath([a1, z2, a2, z3, a3, z4, a4], one_hot_label, verbose=True)\n",
    "        #print(\"backpropagation gradient updates:\", grad1, grad2, grad3)\n",
    "        \n",
    "        break\n",
    "    break"
   ]
  },
  {
   "cell_type": "markdown",
   "id": "ff18391e",
   "metadata": {},
   "source": [
    "So far so good. Here is our mini-batch training, for 50 epochs:"
   ]
  },
  {
   "cell_type": "markdown",
   "id": "a6db63ee",
   "metadata": {},
   "source": [
    "## Commenting the Training code since File already pickled \n",
    "Note: Feel free to review the code and re-run. It took approximately 30 minutes for both of us in our laptop to run below cell!! "
   ]
  },
  {
   "cell_type": "code",
   "execution_count": 33,
   "id": "28e50593",
   "metadata": {
    "scrolled": true
   },
   "outputs": [
    {
     "name": "stderr",
     "output_type": "stream",
     "text": [
      "  2%|▏         | 1/50 [00:14<11:45, 14.39s/it]"
     ]
    },
    {
     "name": "stdout",
     "output_type": "stream",
     "text": [
      "epoch  0 loss 351.04 training accuracy 0.53\n"
     ]
    },
    {
     "name": "stderr",
     "output_type": "stream",
     "text": [
      "\r",
      "  4%|▍         | 2/50 [00:28<11:25, 14.29s/it]"
     ]
    },
    {
     "name": "stdout",
     "output_type": "stream",
     "text": [
      "epoch  1 loss 247.25 training accuracy 0.66\n"
     ]
    },
    {
     "name": "stderr",
     "output_type": "stream",
     "text": [
      "\r",
      "  6%|▌         | 3/50 [00:43<11:15, 14.36s/it]"
     ]
    },
    {
     "name": "stdout",
     "output_type": "stream",
     "text": [
      "epoch  2 loss 193.37 training accuracy 0.73\n"
     ]
    },
    {
     "name": "stderr",
     "output_type": "stream",
     "text": [
      "\r",
      "  8%|▊         | 4/50 [00:57<11:00, 14.36s/it]"
     ]
    },
    {
     "name": "stdout",
     "output_type": "stream",
     "text": [
      "epoch  3 loss 163.35 training accuracy 0.77\n"
     ]
    },
    {
     "name": "stderr",
     "output_type": "stream",
     "text": [
      "\r",
      " 10%|█         | 5/50 [01:11<10:45, 14.34s/it]"
     ]
    },
    {
     "name": "stdout",
     "output_type": "stream",
     "text": [
      "epoch  4 loss 143.85 training accuracy 0.80\n"
     ]
    },
    {
     "name": "stderr",
     "output_type": "stream",
     "text": [
      "\r",
      " 12%|█▏        | 6/50 [01:25<10:29, 14.30s/it]"
     ]
    },
    {
     "name": "stdout",
     "output_type": "stream",
     "text": [
      "epoch  5 loss 129.96 training accuracy 0.82\n"
     ]
    },
    {
     "name": "stderr",
     "output_type": "stream",
     "text": [
      "\r",
      " 14%|█▍        | 7/50 [01:39<10:09, 14.18s/it]"
     ]
    },
    {
     "name": "stdout",
     "output_type": "stream",
     "text": [
      "epoch  6 loss 119.45 training accuracy 0.83\n"
     ]
    },
    {
     "name": "stderr",
     "output_type": "stream",
     "text": [
      "\r",
      " 16%|█▌        | 8/50 [01:54<09:55, 14.18s/it]"
     ]
    },
    {
     "name": "stdout",
     "output_type": "stream",
     "text": [
      "epoch  7 loss 111.16 training accuracy 0.84\n"
     ]
    },
    {
     "name": "stderr",
     "output_type": "stream",
     "text": [
      "\r",
      " 18%|█▊        | 9/50 [02:08<09:42, 14.21s/it]"
     ]
    },
    {
     "name": "stdout",
     "output_type": "stream",
     "text": [
      "epoch  8 loss 104.42 training accuracy 0.85\n"
     ]
    },
    {
     "name": "stderr",
     "output_type": "stream",
     "text": [
      "\r",
      " 20%|██        | 10/50 [02:22<09:30, 14.26s/it]"
     ]
    },
    {
     "name": "stdout",
     "output_type": "stream",
     "text": [
      "epoch  9 loss 98.79 training accuracy 0.86\n"
     ]
    },
    {
     "name": "stderr",
     "output_type": "stream",
     "text": [
      "\r",
      " 22%|██▏       | 11/50 [02:37<09:19, 14.35s/it]"
     ]
    },
    {
     "name": "stdout",
     "output_type": "stream",
     "text": [
      "epoch  10 loss 94.00 training accuracy 0.87\n"
     ]
    },
    {
     "name": "stderr",
     "output_type": "stream",
     "text": [
      "\r",
      " 24%|██▍       | 12/50 [02:51<09:05, 14.35s/it]"
     ]
    },
    {
     "name": "stdout",
     "output_type": "stream",
     "text": [
      "epoch  11 loss 89.86 training accuracy 0.87\n"
     ]
    },
    {
     "name": "stderr",
     "output_type": "stream",
     "text": [
      "\r",
      " 26%|██▌       | 13/50 [03:06<08:53, 14.41s/it]"
     ]
    },
    {
     "name": "stdout",
     "output_type": "stream",
     "text": [
      "epoch  12 loss 86.23 training accuracy 0.88\n"
     ]
    },
    {
     "name": "stderr",
     "output_type": "stream",
     "text": [
      "\r",
      " 28%|██▊       | 14/50 [03:20<08:40, 14.46s/it]"
     ]
    },
    {
     "name": "stdout",
     "output_type": "stream",
     "text": [
      "epoch  13 loss 83.03 training accuracy 0.88\n"
     ]
    },
    {
     "name": "stderr",
     "output_type": "stream",
     "text": [
      "\r",
      " 30%|███       | 15/50 [03:35<08:28, 14.52s/it]"
     ]
    },
    {
     "name": "stdout",
     "output_type": "stream",
     "text": [
      "epoch  14 loss 80.16 training accuracy 0.89\n"
     ]
    },
    {
     "name": "stderr",
     "output_type": "stream",
     "text": [
      "\r",
      " 32%|███▏      | 16/50 [03:50<08:17, 14.64s/it]"
     ]
    },
    {
     "name": "stdout",
     "output_type": "stream",
     "text": [
      "epoch  15 loss 77.58 training accuracy 0.89\n"
     ]
    },
    {
     "name": "stderr",
     "output_type": "stream",
     "text": [
      "\r",
      " 34%|███▍      | 17/50 [04:05<08:05, 14.71s/it]"
     ]
    },
    {
     "name": "stdout",
     "output_type": "stream",
     "text": [
      "epoch  16 loss 75.25 training accuracy 0.90\n"
     ]
    },
    {
     "name": "stderr",
     "output_type": "stream",
     "text": [
      "\r",
      " 36%|███▌      | 18/50 [04:19<07:49, 14.66s/it]"
     ]
    },
    {
     "name": "stdout",
     "output_type": "stream",
     "text": [
      "epoch  17 loss 73.12 training accuracy 0.90\n"
     ]
    },
    {
     "name": "stderr",
     "output_type": "stream",
     "text": [
      "\r",
      " 38%|███▊      | 19/50 [04:33<07:29, 14.49s/it]"
     ]
    },
    {
     "name": "stdout",
     "output_type": "stream",
     "text": [
      "epoch  18 loss 71.16 training accuracy 0.90\n"
     ]
    },
    {
     "name": "stderr",
     "output_type": "stream",
     "text": [
      "\r",
      " 40%|████      | 20/50 [04:47<07:09, 14.33s/it]"
     ]
    },
    {
     "name": "stdout",
     "output_type": "stream",
     "text": [
      "epoch  19 loss 69.36 training accuracy 0.90\n"
     ]
    },
    {
     "name": "stderr",
     "output_type": "stream",
     "text": [
      "\r",
      " 42%|████▏     | 21/50 [05:01<06:53, 14.26s/it]"
     ]
    },
    {
     "name": "stdout",
     "output_type": "stream",
     "text": [
      "epoch  20 loss 67.70 training accuracy 0.91\n"
     ]
    },
    {
     "name": "stderr",
     "output_type": "stream",
     "text": [
      "\r",
      " 44%|████▍     | 22/50 [05:16<06:38, 14.23s/it]"
     ]
    },
    {
     "name": "stdout",
     "output_type": "stream",
     "text": [
      "epoch  21 loss 66.15 training accuracy 0.91\n"
     ]
    },
    {
     "name": "stderr",
     "output_type": "stream",
     "text": [
      "\r",
      " 46%|████▌     | 23/50 [05:30<06:25, 14.27s/it]"
     ]
    },
    {
     "name": "stdout",
     "output_type": "stream",
     "text": [
      "epoch  22 loss 64.71 training accuracy 0.91\n"
     ]
    },
    {
     "name": "stderr",
     "output_type": "stream",
     "text": [
      "\r",
      " 48%|████▊     | 24/50 [05:44<06:13, 14.36s/it]"
     ]
    },
    {
     "name": "stdout",
     "output_type": "stream",
     "text": [
      "epoch  23 loss 63.36 training accuracy 0.91\n"
     ]
    },
    {
     "name": "stderr",
     "output_type": "stream",
     "text": [
      "\r",
      " 50%|█████     | 25/50 [05:59<05:57, 14.32s/it]"
     ]
    },
    {
     "name": "stdout",
     "output_type": "stream",
     "text": [
      "epoch  24 loss 62.10 training accuracy 0.92\n"
     ]
    },
    {
     "name": "stderr",
     "output_type": "stream",
     "text": [
      "\r",
      " 52%|█████▏    | 26/50 [06:13<05:41, 14.21s/it]"
     ]
    },
    {
     "name": "stdout",
     "output_type": "stream",
     "text": [
      "epoch  25 loss 60.91 training accuracy 0.92\n"
     ]
    },
    {
     "name": "stderr",
     "output_type": "stream",
     "text": [
      "\r",
      " 54%|█████▍    | 27/50 [06:27<05:26, 14.21s/it]"
     ]
    },
    {
     "name": "stdout",
     "output_type": "stream",
     "text": [
      "epoch  26 loss 59.80 training accuracy 0.92\n"
     ]
    },
    {
     "name": "stderr",
     "output_type": "stream",
     "text": [
      "\r",
      " 56%|█████▌    | 28/50 [06:42<05:15, 14.36s/it]"
     ]
    },
    {
     "name": "stdout",
     "output_type": "stream",
     "text": [
      "epoch  27 loss 58.74 training accuracy 0.92\n"
     ]
    },
    {
     "name": "stderr",
     "output_type": "stream",
     "text": [
      "\r",
      " 58%|█████▊    | 29/50 [06:57<05:06, 14.61s/it]"
     ]
    },
    {
     "name": "stdout",
     "output_type": "stream",
     "text": [
      "epoch  28 loss 57.74 training accuracy 0.92\n"
     ]
    },
    {
     "name": "stderr",
     "output_type": "stream",
     "text": [
      "\r",
      " 60%|██████    | 30/50 [07:12<04:53, 14.69s/it]"
     ]
    },
    {
     "name": "stdout",
     "output_type": "stream",
     "text": [
      "epoch  29 loss 56.79 training accuracy 0.92\n"
     ]
    },
    {
     "name": "stderr",
     "output_type": "stream",
     "text": [
      "\r",
      " 62%|██████▏   | 31/50 [07:26<04:37, 14.62s/it]"
     ]
    },
    {
     "name": "stdout",
     "output_type": "stream",
     "text": [
      "epoch  30 loss 55.90 training accuracy 0.93\n"
     ]
    },
    {
     "name": "stderr",
     "output_type": "stream",
     "text": [
      "\r",
      " 64%|██████▍   | 32/50 [07:40<04:20, 14.46s/it]"
     ]
    },
    {
     "name": "stdout",
     "output_type": "stream",
     "text": [
      "epoch  31 loss 55.04 training accuracy 0.93\n"
     ]
    },
    {
     "name": "stderr",
     "output_type": "stream",
     "text": [
      "\r",
      " 66%|██████▌   | 33/50 [07:54<04:04, 14.38s/it]"
     ]
    },
    {
     "name": "stdout",
     "output_type": "stream",
     "text": [
      "epoch  32 loss 54.22 training accuracy 0.93\n"
     ]
    },
    {
     "name": "stderr",
     "output_type": "stream",
     "text": [
      "\r",
      " 68%|██████▊   | 34/50 [08:09<03:50, 14.40s/it]"
     ]
    },
    {
     "name": "stdout",
     "output_type": "stream",
     "text": [
      "epoch  33 loss 53.45 training accuracy 0.93\n"
     ]
    },
    {
     "name": "stderr",
     "output_type": "stream",
     "text": [
      "\r",
      " 70%|███████   | 35/50 [08:23<03:36, 14.41s/it]"
     ]
    },
    {
     "name": "stdout",
     "output_type": "stream",
     "text": [
      "epoch  34 loss 52.70 training accuracy 0.93\n"
     ]
    },
    {
     "name": "stderr",
     "output_type": "stream",
     "text": [
      "\r",
      " 72%|███████▏  | 36/50 [08:38<03:23, 14.51s/it]"
     ]
    },
    {
     "name": "stdout",
     "output_type": "stream",
     "text": [
      "epoch  35 loss 51.99 training accuracy 0.93\n"
     ]
    },
    {
     "name": "stderr",
     "output_type": "stream",
     "text": [
      "\r",
      " 74%|███████▍  | 37/50 [08:52<03:08, 14.51s/it]"
     ]
    },
    {
     "name": "stdout",
     "output_type": "stream",
     "text": [
      "epoch  36 loss 51.31 training accuracy 0.93\n"
     ]
    },
    {
     "name": "stderr",
     "output_type": "stream",
     "text": [
      "\r",
      " 76%|███████▌  | 38/50 [09:07<02:53, 14.45s/it]"
     ]
    },
    {
     "name": "stdout",
     "output_type": "stream",
     "text": [
      "epoch  37 loss 50.66 training accuracy 0.93\n"
     ]
    },
    {
     "name": "stderr",
     "output_type": "stream",
     "text": [
      "\r",
      " 78%|███████▊  | 39/50 [09:21<02:37, 14.29s/it]"
     ]
    },
    {
     "name": "stdout",
     "output_type": "stream",
     "text": [
      "epoch  38 loss 50.03 training accuracy 0.93\n"
     ]
    },
    {
     "name": "stderr",
     "output_type": "stream",
     "text": [
      "\r",
      " 80%|████████  | 40/50 [09:34<02:21, 14.12s/it]"
     ]
    },
    {
     "name": "stdout",
     "output_type": "stream",
     "text": [
      "epoch  39 loss 49.43 training accuracy 0.94\n"
     ]
    },
    {
     "name": "stderr",
     "output_type": "stream",
     "text": [
      "\r",
      " 82%|████████▏ | 41/50 [09:48<02:06, 14.01s/it]"
     ]
    },
    {
     "name": "stdout",
     "output_type": "stream",
     "text": [
      "epoch  40 loss 48.85 training accuracy 0.94\n"
     ]
    },
    {
     "name": "stderr",
     "output_type": "stream",
     "text": [
      "\r",
      " 84%|████████▍ | 42/50 [10:02<01:51, 13.99s/it]"
     ]
    },
    {
     "name": "stdout",
     "output_type": "stream",
     "text": [
      "epoch  41 loss 48.30 training accuracy 0.94\n"
     ]
    },
    {
     "name": "stderr",
     "output_type": "stream",
     "text": [
      "\r",
      " 86%|████████▌ | 43/50 [10:16<01:38, 14.02s/it]"
     ]
    },
    {
     "name": "stdout",
     "output_type": "stream",
     "text": [
      "epoch  42 loss 47.76 training accuracy 0.94\n"
     ]
    },
    {
     "name": "stderr",
     "output_type": "stream",
     "text": [
      "\r",
      " 88%|████████▊ | 44/50 [10:30<01:24, 14.03s/it]"
     ]
    },
    {
     "name": "stdout",
     "output_type": "stream",
     "text": [
      "epoch  43 loss 47.24 training accuracy 0.94\n"
     ]
    },
    {
     "name": "stderr",
     "output_type": "stream",
     "text": [
      "\r",
      " 90%|█████████ | 45/50 [10:44<01:10, 14.02s/it]"
     ]
    },
    {
     "name": "stdout",
     "output_type": "stream",
     "text": [
      "epoch  44 loss 46.74 training accuracy 0.94\n"
     ]
    },
    {
     "name": "stderr",
     "output_type": "stream",
     "text": [
      "\r",
      " 92%|█████████▏| 46/50 [10:58<00:55, 13.94s/it]"
     ]
    },
    {
     "name": "stdout",
     "output_type": "stream",
     "text": [
      "epoch  45 loss 46.26 training accuracy 0.94\n"
     ]
    },
    {
     "name": "stderr",
     "output_type": "stream",
     "text": [
      "\r",
      " 94%|█████████▍| 47/50 [11:12<00:41, 13.91s/it]"
     ]
    },
    {
     "name": "stdout",
     "output_type": "stream",
     "text": [
      "epoch  46 loss 45.79 training accuracy 0.94\n"
     ]
    },
    {
     "name": "stderr",
     "output_type": "stream",
     "text": [
      "\r",
      " 96%|█████████▌| 48/50 [11:26<00:27, 13.96s/it]"
     ]
    },
    {
     "name": "stdout",
     "output_type": "stream",
     "text": [
      "epoch  47 loss 45.34 training accuracy 0.94\n"
     ]
    },
    {
     "name": "stderr",
     "output_type": "stream",
     "text": [
      "\r",
      " 98%|█████████▊| 49/50 [11:40<00:13, 13.98s/it]"
     ]
    },
    {
     "name": "stdout",
     "output_type": "stream",
     "text": [
      "epoch  48 loss 44.90 training accuracy 0.94\n"
     ]
    },
    {
     "name": "stderr",
     "output_type": "stream",
     "text": [
      "100%|██████████| 50/50 [11:54<00:00, 14.30s/it]"
     ]
    },
    {
     "name": "stdout",
     "output_type": "stream",
     "text": [
      "epoch  49 loss 44.48 training accuracy 0.94\n"
     ]
    },
    {
     "name": "stderr",
     "output_type": "stream",
     "text": [
      "\n"
     ]
    }
   ],
   "source": [
    "# from tqdm import tqdm\n",
    "# #epoch loop\n",
    "# for i in tqdm(range(n_iter)):\n",
    "#     # batch loop\n",
    "#     for (input, label) in zip(X_train, y_train):\n",
    "#         one_hot_label = one_hot_enc_v2(label, num_labels=10)\n",
    "\n",
    "#         a1, z2, a2, z3, a3, z4, a4 = compute_forward_pass(input)\n",
    "#         loss = compute_loss(a4, one_hot_label)\n",
    "#         grad1, grad2, grad3 = compute_backward_pass_fullmath([a1, z2, a2, z3, a3, z4, a4], one_hot_label)\n",
    "\n",
    "#         # multiplicative learning factor\n",
    "#         delta_w1, delta_w2, delta_w3 = eta * grad1, eta * grad2, eta * grad3\n",
    "\n",
    "#         # additive learning factor\n",
    "#         w1 = w1 + delta_w1 + delta_w1_prev * alpha\n",
    "#         w2 = w2 + delta_w2 + delta_w2_prev * alpha\n",
    "#         w3 = w3 + delta_w3 + delta_w3_prev * alpha\n",
    "\n",
    "#         delta_w1_prev, delta_w2_prev, delta_w3_prev = delta_w1, delta_w2, delta_w3\n",
    "\n",
    "#         train_losses.append(loss)\n",
    "#         predictions = predict(a4)\n",
    "\n",
    "#         wrong = np.where(predictions != label, np.matrix([1.]), np.matrix([0.]))\n",
    "#         accuracy = 1 - (np.sum(wrong) / batch_size)\n",
    "#         train_acc.append(accuracy)\n",
    "\n",
    "#     # epoch loss and accuracy (mean of al batches)\n",
    "#     print('epoch ', i, 'loss %.2f' % np.mean(np.matrix(train_losses)).item(), \n",
    "#           'training accuracy %.2f' % np.mean(np.matrix(train_acc)).item())"
   ]
  },
  {
   "cell_type": "markdown",
   "id": "b65cc017",
   "metadata": {},
   "source": [
    "The loss keeps on *decreasing* gradually whereas the accuracy starts converging at 90%, so that is encouraging. We can also play with the learning rates!\n",
    "\n",
    "However, we have achieved the desired goal of the Assignment to improve the accuracy. And we achieved the training accuracy of 94%\n",
    "\n",
    "Verifying with the test set:"
   ]
  },
  {
   "cell_type": "markdown",
   "id": "69e52fb3",
   "metadata": {},
   "source": [
    "## Pickling and saving the Model file"
   ]
  },
  {
   "cell_type": "code",
   "execution_count": 34,
   "id": "8a6ba662",
   "metadata": {},
   "outputs": [
    {
     "name": "stdout",
     "output_type": "stream",
     "text": [
      "{'w1': array([[-0.14997095,  0.31483887, -0.48954779, ..., -0.78872145,\n",
      "         1.36996464,  0.67208106],\n",
      "       [ 0.35400282, -1.21971218,  0.61564137, ..., -0.1918318 ,\n",
      "         1.04680048,  0.63559922],\n",
      "       [-0.5203689 ,  0.1056613 ,  0.00904234, ..., -1.38069351,\n",
      "         0.89219492,  0.43634337],\n",
      "       ...,\n",
      "       [ 0.03061318, -1.83391292,  2.22401033, ..., -0.49705636,\n",
      "        -0.82273292,  1.22012058],\n",
      "       [-0.63198001,  0.46891891, -0.15704594, ...,  0.69150619,\n",
      "         0.95007154,  0.67360055],\n",
      "       [ 0.66011863,  1.05376945,  0.57085366, ...,  0.14311742,\n",
      "        -1.32773597,  0.34461406]]), 'w2': array([[ 0.74450077, -1.50887922, -0.33335477, ..., -0.61732294,\n",
      "         0.15822524,  0.06544368],\n",
      "       [-1.49388238,  1.24457944, -1.38653688, ...,  1.05926415,\n",
      "         1.21376151,  0.05485352],\n",
      "       [ 0.56610785, -0.01433834, -1.8300559 , ...,  0.75113131,\n",
      "         1.59148536,  0.99241089],\n",
      "       ...,\n",
      "       [ 0.57854666, -1.3528458 ,  0.35848809, ...,  0.14112142,\n",
      "        -0.74755304,  0.22417978],\n",
      "       [-0.24277339,  1.04519143,  0.53187452, ..., -2.47642307,\n",
      "        -0.50098045, -0.47045285],\n",
      "       [-0.42155174,  0.27297455,  0.54926085, ...,  0.60222049,\n",
      "        -0.25099244, -0.70978701]]), 'w3': array([[-1.50556329e+00, -1.76108217e+00, -1.45416164e+00,\n",
      "        -4.60643128e-01,  9.15832479e-01,  1.93950258e+00,\n",
      "        -6.94796286e-01,  1.61955571e+00, -7.13560215e-01,\n",
      "        -4.27625736e-01],\n",
      "       [-6.02318843e-01, -7.19791779e-01, -5.71121395e-01,\n",
      "         4.55605847e-01, -5.90632577e-01, -1.55574883e+00,\n",
      "        -9.52005751e-01, -1.47080503e+00,  1.76149938e+00,\n",
      "         1.30211386e+00],\n",
      "       [-4.27478826e-01, -1.89692191e-01, -1.04971844e+00,\n",
      "         5.10788433e-01,  6.15526852e-01,  3.67079940e-01,\n",
      "         2.01277182e-01,  2.01404040e+00, -1.31175960e+00,\n",
      "        -1.48382698e+00],\n",
      "       [ 4.83786327e-01, -3.12041758e+00, -1.69777008e+00,\n",
      "         2.50911416e+00,  2.42318256e+00, -1.06718681e+00,\n",
      "         1.40636592e+00,  1.01217914e+00,  2.48397642e+00,\n",
      "         7.25352830e-01],\n",
      "       [ 1.64028603e+00, -1.76360763e-01,  2.71030915e+00,\n",
      "        -3.41963273e+00,  2.77712614e-02,  7.99928711e-01,\n",
      "         1.25411867e+00, -1.34117082e+00, -2.42938566e-01,\n",
      "        -1.25102223e+00],\n",
      "       [-1.77397960e+00, -1.14278223e+00, -6.02017825e-02,\n",
      "         4.88654596e-01,  5.74519053e-02, -1.46045202e+00,\n",
      "        -1.55219176e+00,  1.07167861e+00,  7.87485810e-02,\n",
      "        -2.72508743e+00],\n",
      "       [ 2.01695308e+00, -3.39549198e-02, -1.05844250e+00,\n",
      "         8.55835712e-02, -1.52825180e+00, -5.82370577e-01,\n",
      "         1.00514788e+00, -2.37443537e-01,  5.67929039e-01,\n",
      "        -1.58963237e+00],\n",
      "       [ 9.85068991e-01, -2.28488249e+00,  9.38473031e-01,\n",
      "         1.00662687e+00,  1.41937054e+00,  1.58400651e+00,\n",
      "        -2.07942342e-01, -8.06725017e-01,  1.10647955e+00,\n",
      "         9.46448536e-01],\n",
      "       [ 1.01986528e+00, -7.92929217e-01, -1.17767798e+00,\n",
      "         1.17686746e+00, -8.19223690e-02, -2.25473957e+00,\n",
      "        -1.01217442e+00,  1.67564667e+00,  7.90521310e-01,\n",
      "        -1.16405315e+00],\n",
      "       [-6.18407155e-01,  2.44725793e-01, -1.07986512e+00,\n",
      "         1.56357003e+00,  5.43589855e-01,  4.58112715e-01,\n",
      "        -1.75966551e+00, -1.75444899e+00,  7.86392296e-01,\n",
      "         1.10771412e+00],\n",
      "       [-8.64484501e-01, -1.21721535e+00,  2.64848355e+00,\n",
      "         1.43161688e+00, -1.04538507e+00, -1.91011007e+00,\n",
      "        -1.64833951e+00,  8.61031820e-01,  2.29167202e+00,\n",
      "         8.68882159e-02],\n",
      "       [-5.00389409e-01,  1.63486607e+00, -4.42433758e-01,\n",
      "         1.29428042e+00, -1.50916830e+00,  2.01955913e+00,\n",
      "        -3.58042847e-02, -1.01317310e+00, -3.94536172e+00,\n",
      "        -4.26690517e-01],\n",
      "       [ 1.57952265e-01,  5.87734730e-01, -1.63739531e-01,\n",
      "        -1.34732481e+00,  1.71508964e-01, -4.57421867e-01,\n",
      "        -9.96653666e-01, -4.19131328e-02,  7.68704053e-01,\n",
      "        -1.52295321e+00],\n",
      "       [-1.72922444e+00, -2.71727913e-02, -1.02008592e+00,\n",
      "        -6.70534718e-01, -1.21291229e+00,  1.02896337e+00,\n",
      "         1.47206718e+00, -3.43235846e-01,  6.19380514e-01,\n",
      "         1.78836684e+00],\n",
      "       [-1.39386960e+00, -1.22004914e+00,  3.28627172e-01,\n",
      "        -8.19869913e-02, -2.32644341e+00,  2.17977392e-02,\n",
      "         3.06837078e+00,  2.71443747e+00, -1.82744663e+00,\n",
      "        -3.74226907e+00],\n",
      "       [ 6.69068667e-02,  8.62790641e-01, -1.72462676e+00,\n",
      "         1.03819226e-02, -9.04391604e-01,  4.31187075e-01,\n",
      "         6.89338770e-01,  3.57549906e-01,  1.65328060e-01,\n",
      "         3.69681708e-01],\n",
      "       [-4.05181626e-01,  2.50941767e+00, -6.92914644e-01,\n",
      "         2.15013467e+00,  1.51940170e-01, -2.59988360e+00,\n",
      "         1.12683363e+00, -1.56762031e+00, -1.84768342e+00,\n",
      "        -1.00678062e+00],\n",
      "       [-9.14373403e-01, -4.87039657e-01, -2.02675624e+00,\n",
      "        -2.34998758e-01, -1.67588629e+00,  1.35525621e-01,\n",
      "         1.01990331e+00, -9.83010068e-02,  5.04701140e-01,\n",
      "         5.59094453e-02],\n",
      "       [-5.97324509e-01, -3.77452245e-01, -1.67732858e-03,\n",
      "        -1.73009500e+00,  1.44691858e+00,  1.20993637e+00,\n",
      "         2.70258191e-02, -8.57960524e-01, -9.84713475e-01,\n",
      "        -2.73656713e-01],\n",
      "       [-1.43720275e+00,  4.32705670e-01, -4.79065553e-01,\n",
      "        -6.50126822e-01, -1.44892109e+00, -5.95971341e-01,\n",
      "        -1.82692961e-01, -5.06762705e-01,  5.73055246e-02,\n",
      "         3.48058041e-01],\n",
      "       [ 1.86242528e+00, -2.15214274e-01, -2.43619133e+00,\n",
      "         1.66256163e+00,  2.56709955e+00,  9.71885536e-01,\n",
      "        -2.95401240e+00, -5.51076503e-01,  3.50310247e-01,\n",
      "        -1.87120798e+00],\n",
      "       [-1.14909317e+00,  1.65196733e+00,  1.97361793e-01,\n",
      "        -1.10755644e+00, -2.01454961e+00,  1.46182580e+00,\n",
      "        -6.31556511e-01,  4.20428549e-01, -1.08151319e+00,\n",
      "         7.49255125e-02],\n",
      "       [-1.42796641e+00,  3.19764282e-01, -4.51022524e-01,\n",
      "        -1.56051630e+00, -1.47386963e+00,  2.02672107e+00,\n",
      "         8.33013963e-02, -7.84893256e-01,  1.56604250e+00,\n",
      "         6.28611539e-02],\n",
      "       [-1.92154571e+00, -4.23190482e-02,  8.19659082e-02,\n",
      "        -1.41115126e+00,  3.53945464e-01, -1.04366046e+00,\n",
      "         9.50866574e-02,  6.85457023e-01, -4.24938105e+00,\n",
      "         2.37819161e+00],\n",
      "       [-9.26253069e-01,  1.83795135e+00, -3.57359563e-01,\n",
      "         5.18174838e-01,  5.29667297e-01, -1.07923488e+00,\n",
      "        -4.66738919e-01,  1.69039040e+00, -1.19730392e+00,\n",
      "        -9.67971400e-01],\n",
      "       [ 1.21034885e+00, -1.75074867e+00, -9.06221723e-01,\n",
      "         3.38459546e+00,  5.55516951e-02,  1.08531910e+00,\n",
      "        -6.72419983e-01,  7.21297164e-01, -1.22217997e+00,\n",
      "         4.59287571e-01],\n",
      "       [-1.34524747e+00, -2.01783283e+00,  1.72068219e+00,\n",
      "         2.19192570e-01,  8.47064714e-01, -1.33571633e+00,\n",
      "        -9.72990409e-01, -1.13596123e+00, -6.51479941e-01,\n",
      "         1.08661654e+00],\n",
      "       [ 1.62023917e+00, -2.26510605e+00, -4.18712185e-01,\n",
      "        -2.29783165e+00,  4.44141241e-01,  1.19606246e+00,\n",
      "        -1.63776281e-01, -7.22115661e-01, -4.00104861e-02,\n",
      "         9.14995691e-02],\n",
      "       [ 1.14592090e+00, -9.88651652e-01,  5.53754495e-01,\n",
      "        -5.87688350e-01, -6.61650938e-01,  1.98846597e+00,\n",
      "        -2.29691447e+00, -2.65070309e-01, -9.90166637e-01,\n",
      "        -2.03923982e-01],\n",
      "       [ 1.15017209e+00, -1.33569173e+00, -2.28151421e+00,\n",
      "        -8.27963105e-01, -3.74677479e-01,  1.61317814e+00,\n",
      "         7.66772477e-01,  1.49772192e+00, -3.54652397e+00,\n",
      "        -2.86500850e-01],\n",
      "       [-1.74024687e+00,  9.62438258e-01, -1.44863957e-01,\n",
      "         1.48775810e+00,  7.61092805e-01, -2.18410383e-02,\n",
      "        -6.90918694e-01,  2.04523400e+00,  1.38545605e+00,\n",
      "        -5.07611927e-02],\n",
      "       [ 2.02163821e+00, -9.52155407e-01, -5.94420070e-01,\n",
      "        -1.10835103e+00, -5.44701936e-01, -2.68036886e+00,\n",
      "         2.44067667e+00, -1.23035502e+00,  1.08218351e+00,\n",
      "         1.49991142e+00],\n",
      "       [ 1.28531326e-01,  1.37788980e+00,  2.03682014e-01,\n",
      "         1.80338894e+00, -4.31289095e-01, -2.66723181e-01,\n",
      "         5.57673477e-01,  1.30557197e+00,  9.29582276e-01,\n",
      "         1.02221073e+00],\n",
      "       [ 2.50749740e-01,  4.15343076e-01,  1.78747357e-01,\n",
      "        -9.49724602e-01, -1.70203551e+00,  3.95321530e-02,\n",
      "         8.73355782e-01, -5.05251256e-01, -1.97246065e-01,\n",
      "         4.84450425e-01],\n",
      "       [ 2.30454496e-01,  1.74813220e+00,  3.76523074e-01,\n",
      "         3.98532612e-02,  1.38532554e+00,  5.53938203e-01,\n",
      "         1.10900081e+00,  2.85383757e+00, -9.32067036e-02,\n",
      "        -5.43346303e-01],\n",
      "       [-1.49066262e+00, -4.44795595e-01, -5.43490457e-01,\n",
      "         9.06189356e-01, -3.41768461e+00,  1.54490756e+00,\n",
      "        -1.40824196e+00,  1.33903614e+00,  7.79053042e-01,\n",
      "         3.10595483e+00],\n",
      "       [-5.96210873e-01,  5.57034010e-01,  1.18505258e-01,\n",
      "        -9.52645698e-01, -7.41187419e-01,  1.28608284e+00,\n",
      "        -6.10083843e-01, -6.88131638e-01, -2.68546105e+00,\n",
      "        -7.01252890e-01],\n",
      "       [-9.94094324e-01,  9.81544019e-01,  1.71968533e-01,\n",
      "         7.57814298e-01,  3.79840978e-01,  9.07880555e-01,\n",
      "        -1.53872707e+00, -5.77705259e-01, -1.51428642e+00,\n",
      "         1.17191405e-02],\n",
      "       [-1.17220053e+00, -1.32289641e-01,  1.44847353e+00,\n",
      "        -2.55913422e+00, -1.39399496e+00,  3.02199216e-01,\n",
      "        -2.20448507e-01, -9.32194657e-01, -1.10323653e+00,\n",
      "         6.39035659e-01],\n",
      "       [-1.95987445e-01,  3.23031752e-01, -5.07723899e-01,\n",
      "        -6.73033298e-02, -1.66713480e+00,  1.11802771e-01,\n",
      "         5.96283171e-01, -1.92494406e+00, -8.33293764e-01,\n",
      "         8.31763726e-01],\n",
      "       [ 1.27654270e+00,  8.25072582e-02,  2.37149154e+00,\n",
      "        -6.92442685e-01,  9.43823353e-03,  1.19849196e+00,\n",
      "        -8.50282153e-01, -1.47409613e+00, -1.06007851e+00,\n",
      "         2.07918077e-01],\n",
      "       [ 7.94984559e-01, -1.56854539e+00,  5.19719878e-01,\n",
      "         9.92254822e-01,  2.90259732e+00, -2.65033090e+00,\n",
      "        -1.37601753e+00,  1.55506416e+00, -1.69041593e+00,\n",
      "         1.51314267e+00],\n",
      "       [ 1.68449826e+00,  5.38870902e-01, -2.25511393e+00,\n",
      "         6.14830432e-01,  9.99863887e-01,  1.02721350e-01,\n",
      "        -2.60375258e+00, -1.33347455e+00, -2.16210370e+00,\n",
      "         1.52841467e+00],\n",
      "       [-6.57833833e-01, -4.26725490e-01,  1.69009169e+00,\n",
      "        -1.36468103e+00, -1.80331709e-01, -3.46590452e-01,\n",
      "         1.25386409e-01,  8.68722143e-01,  2.08270960e+00,\n",
      "        -1.99075654e+00],\n",
      "       [-1.50210173e+00, -1.52171756e-01, -2.24883504e-01,\n",
      "        -1.06139044e+00, -1.51721211e-01,  1.28015562e+00,\n",
      "        -2.47469896e+00, -1.93911458e+00, -5.25148114e-01,\n",
      "         7.97828960e-01],\n",
      "       [ 6.41729433e-02,  1.86435805e+00, -2.59403821e+00,\n",
      "        -2.24850541e+00,  1.94466796e+00, -1.89740320e+00,\n",
      "        -3.99471880e-01,  2.29783492e+00,  9.73571186e-01,\n",
      "         1.58527541e+00],\n",
      "       [-2.31076666e+00, -9.96445639e-01, -3.15308829e-02,\n",
      "        -7.28341337e-01,  2.18815167e+00, -1.85913373e+00,\n",
      "         2.31741930e+00, -1.42082004e+00,  6.50507222e-01,\n",
      "        -2.27126764e-02],\n",
      "       [-3.68498068e-01, -1.67990152e+00, -2.69074675e-01,\n",
      "         6.87758616e-01, -1.12704209e-01,  1.73294607e+00,\n",
      "        -7.87806740e-01, -9.60996447e-01, -8.90862462e-01,\n",
      "         1.22608528e+00],\n",
      "       [-2.24435441e+00, -6.58315142e-01, -1.45244301e+00,\n",
      "        -2.00278140e+00,  8.09751738e-01, -2.08714638e-01,\n",
      "         1.04801402e-01, -2.02332211e-01, -2.90268934e+00,\n",
      "        -2.20576710e+00],\n",
      "       [-9.51175332e-01, -3.88854130e-01, -4.31884735e-01,\n",
      "         6.12276000e-03,  5.17040807e-01,  1.42065949e+00,\n",
      "        -7.45587274e-01,  1.14186710e+00, -7.37989300e-01,\n",
      "        -4.03200580e-01],\n",
      "       [-1.00203775e-01,  2.17021009e+00, -5.03134600e-01,\n",
      "         1.45909031e+00,  9.93204795e-02, -1.32892083e-01,\n",
      "         1.90096861e+00, -3.91841592e-01, -2.44494749e+00,\n",
      "         2.16835516e-01],\n",
      "       [ 1.95286172e+00, -2.73372312e-02,  1.53738275e+00,\n",
      "         1.45370990e+00,  1.25844756e+00, -1.59337677e+00,\n",
      "        -1.99476117e-01,  6.45926769e-02, -6.36631008e-01,\n",
      "         1.17186639e+00],\n",
      "       [-1.98726489e+00, -1.00850052e+00,  1.08831773e+00,\n",
      "         1.69960811e+00,  3.15457826e-02,  2.43912879e+00,\n",
      "         1.55488124e-01, -6.30609325e-01,  8.36895032e-01,\n",
      "        -5.40980279e-01],\n",
      "       [-1.01926763e+00, -1.31895979e+00, -2.08369759e-01,\n",
      "        -1.85272037e+00,  1.56201773e-01, -1.30429503e+00,\n",
      "         2.94333246e+00, -6.54228348e-01,  1.07108227e+00,\n",
      "         3.31864048e-01],\n",
      "       [-2.70094339e+00, -1.55618960e+00, -1.58770285e+00,\n",
      "        -8.19006310e-01, -2.92263888e+00, -7.23165032e-01,\n",
      "        -1.17264323e+00,  5.18170864e-01, -1.42604662e+00,\n",
      "        -4.41762577e-02],\n",
      "       [-2.09449695e+00,  1.16922610e+00, -3.48632371e-01,\n",
      "        -2.85558743e+00,  2.54528092e-01,  2.43139581e+00,\n",
      "        -3.17418806e-01, -1.23204444e+00,  1.85054870e+00,\n",
      "         1.26740952e-01],\n",
      "       [-3.24326406e-01,  6.01394769e-01,  2.16191906e+00,\n",
      "        -1.43325804e+00,  6.51190538e-01,  2.04735262e+00,\n",
      "        -1.18611885e+00, -1.76705357e-01, -4.05536852e-02,\n",
      "        -1.53848997e+00],\n",
      "       [ 1.13013349e-01, -2.10824781e+00, -1.01952654e-01,\n",
      "         3.62158195e-01,  1.77463045e-01,  8.27960649e-01,\n",
      "         7.06116827e-01, -3.99617534e-01, -1.29291416e+00,\n",
      "        -4.71678281e-01],\n",
      "       [ 1.67770226e+00,  5.74743219e-01, -9.14332136e-01,\n",
      "        -1.25446666e+00,  6.61985618e-01, -1.85102962e+00,\n",
      "        -1.13025062e+00, -6.12535631e-01,  3.17710343e-01,\n",
      "         5.35603748e-01],\n",
      "       [-4.46653345e-01, -7.53926960e-01, -2.23275911e-01,\n",
      "         1.41084580e-01,  1.11383774e+00, -1.49341251e-01,\n",
      "         3.08004536e-01, -4.19020590e-01,  1.20311319e-02,\n",
      "         4.67965760e-01],\n",
      "       [ 6.37906520e-01, -1.70650853e-01, -1.15737427e+00,\n",
      "         2.96360487e-01, -1.04079693e-01, -1.53941054e+00,\n",
      "        -4.34428582e-01, -9.87677643e-01, -5.92718901e-01,\n",
      "        -4.69285655e-01],\n",
      "       [ 1.67484263e+00, -2.54243211e-01, -4.54203810e-01,\n",
      "        -4.03115770e-02,  8.64273824e-01, -6.66543413e-01,\n",
      "         3.02327839e-01,  5.00600016e-01,  2.05725570e-02,\n",
      "        -1.02948718e+00],\n",
      "       [-2.58381169e-01,  7.37385976e-01, -5.43336865e-01,\n",
      "        -6.11448686e-01,  1.41146438e-01, -9.11809530e-01,\n",
      "         3.13343036e-01, -1.67494062e+00,  3.29269319e-01,\n",
      "        -1.93969671e-01],\n",
      "       [ 3.69495701e-01,  1.01642001e+00,  1.65096784e+00,\n",
      "        -3.66727103e-01,  1.93622251e+00,  1.36740298e+00,\n",
      "        -1.46463369e+00, -3.00645739e-01, -2.47356304e+00,\n",
      "        -2.48639998e+00],\n",
      "       [-7.42697304e-01,  1.66238185e+00, -9.63070344e-03,\n",
      "        -5.27840531e-01, -1.19744925e+00,  1.29209516e+00,\n",
      "        -2.63761465e+00, -7.13977873e-01, -8.22398640e-01,\n",
      "        -9.35627370e-02],\n",
      "       [ 7.59560035e-01, -5.03516395e-01, -1.10307670e+00,\n",
      "        -1.80800963e-01, -4.26040071e-01, -1.09005505e+00,\n",
      "         2.06807001e+00,  5.08519774e-01, -1.11828362e+00,\n",
      "        -2.13404623e+00],\n",
      "       [ 7.91115648e-01,  1.26806310e-01, -1.48792177e+00,\n",
      "        -2.22497731e+00,  8.63548687e-01,  4.63750193e-01,\n",
      "        -9.42607732e-02, -2.06469274e+00, -6.90069093e-01,\n",
      "        -3.43432207e-01],\n",
      "       [ 5.18578322e-01, -2.44443951e+00, -5.75026889e-01,\n",
      "        -1.16710604e+00, -5.87722620e-01, -1.39005212e+00,\n",
      "        -3.80712050e-01,  8.36335297e-01,  8.77544022e-02,\n",
      "         8.48316229e-01],\n",
      "       [ 6.87736698e-01,  2.02264769e-02,  8.91876199e-01,\n",
      "         1.39480812e+00,  1.70773709e+00, -5.19657134e-01,\n",
      "        -3.87727505e-01, -7.41473871e-01, -8.52497255e-01,\n",
      "        -1.10325702e+00],\n",
      "       [-1.04577189e+00, -9.55328459e-01,  1.78008113e+00,\n",
      "        -1.47606934e+00, -2.86211051e+00, -1.75203249e-01,\n",
      "         1.58749286e+00,  3.62830457e+00,  8.57992537e-01,\n",
      "        -1.51368647e+00],\n",
      "       [ 1.19780859e-01,  2.87205952e-01,  3.33628778e-01,\n",
      "         8.82756183e-01,  1.36656701e+00, -3.75293596e-01,\n",
      "         5.24231843e-01,  2.71078354e-01, -1.47148467e+00,\n",
      "        -1.14944343e+00],\n",
      "       [ 1.73189079e+00, -5.70427263e-01, -8.37076520e-01,\n",
      "        -8.72159814e-01, -6.84187795e-01, -1.40524415e+00,\n",
      "        -2.14784250e-02, -1.23317228e+00,  7.99608427e-01,\n",
      "         1.24223487e+00],\n",
      "       [-9.65262267e-01,  1.12883933e+00,  4.23624483e-01,\n",
      "         2.86657913e-01,  1.33858781e+00, -1.22711536e+00,\n",
      "        -4.08173909e-01, -8.66801881e-01,  7.51134749e-01,\n",
      "        -4.52795340e-01],\n",
      "       [-1.47026576e+00, -7.33005861e-01,  2.64624584e+00,\n",
      "         2.86118527e+00, -4.76757638e-02, -3.42917743e+00,\n",
      "        -1.03466662e+00, -1.13025738e-01,  2.00242332e+00,\n",
      "        -7.34317080e-01],\n",
      "       [ 1.17372374e+00, -7.98743408e-01, -4.73620164e-01,\n",
      "        -1.83494392e+00, -7.96825725e-01,  2.15036914e-01,\n",
      "         4.69808916e-01, -1.59909500e+00, -3.39590384e+00,\n",
      "         6.95538821e-01],\n",
      "       [ 4.05252440e-02, -1.92088611e+00,  1.54075802e+00,\n",
      "        -2.45564185e+00,  1.76296990e+00, -5.54054610e-01,\n",
      "        -6.55633063e-01, -4.82627575e-01,  1.15957647e+00,\n",
      "        -1.75500184e+00],\n",
      "       [-9.42854645e-01, -3.43650405e-01,  1.30480361e+00,\n",
      "         1.95312702e-01, -1.53208807e+00, -2.27118053e+00,\n",
      "        -9.90603339e-01,  6.49534517e-01, -1.66836037e+00,\n",
      "         1.13402445e+00],\n",
      "       [ 1.93716925e-01,  7.87739212e-01,  2.58464579e-01,\n",
      "         1.99278701e+00, -1.65995941e+00, -1.27296359e+00,\n",
      "         8.95718656e-01, -2.32594758e+00,  1.01394097e+00,\n",
      "         4.08219417e-01],\n",
      "       [-1.00208294e+00,  3.53216208e-01,  1.21534931e-01,\n",
      "         8.70586198e-01,  1.88114605e-01,  3.10238754e-01,\n",
      "         1.59566576e+00, -4.97870478e-01, -5.18824407e-01,\n",
      "         9.81561581e-01],\n",
      "       [ 3.37608602e+00,  5.47563399e-01,  1.87822838e+00,\n",
      "        -1.63560460e+00,  1.51732236e-01, -2.15079080e-01,\n",
      "        -1.02373660e+00, -8.46470601e-01, -1.86488328e+00,\n",
      "         1.64945639e+00],\n",
      "       [-1.78459599e+00,  2.30818492e+00, -1.60998214e+00,\n",
      "        -1.24512683e+00, -5.96485263e-01,  1.19285817e+00,\n",
      "        -1.13560337e+00,  3.70881615e-01, -1.73193065e+00,\n",
      "         7.75470046e-01],\n",
      "       [ 1.14563579e+00,  2.00045584e+00, -1.53501460e+00,\n",
      "        -3.67140723e-01, -6.56889599e-01, -7.78291117e-01,\n",
      "         2.22786793e+00,  1.44356201e-01, -9.93959706e-02,\n",
      "        -4.39678000e-02],\n",
      "       [-7.10783869e-01,  4.67489677e-01, -8.50300409e-01,\n",
      "         1.53960567e-01,  1.48397310e+00,  4.10426952e-01,\n",
      "        -6.84380039e-01, -1.19106029e+00, -1.03719327e+00,\n",
      "         3.58766744e-02],\n",
      "       [ 8.46538278e-01,  1.12342643e-01, -3.94801043e-01,\n",
      "         2.74414402e-01, -1.14651642e-01, -2.41962065e-02,\n",
      "         3.01441595e-01, -5.92338873e-01, -8.23091851e-01,\n",
      "         3.17766659e-01],\n",
      "       [ 4.71022625e-01,  9.79370109e-01,  5.49224366e-02,\n",
      "         2.26869443e+00, -1.99245347e+00, -2.46102648e+00,\n",
      "         1.59097977e+00, -2.32297827e-01, -9.33013875e-02,\n",
      "        -1.01493525e+00],\n",
      "       [ 1.37943780e+00,  8.43486720e-01, -1.33775422e+00,\n",
      "        -1.27060328e+00, -3.31371080e+00,  5.73949837e-01,\n",
      "         1.90707580e+00,  1.44176432e+00,  2.02159519e+00,\n",
      "         3.99977043e+00],\n",
      "       [-2.77029262e+00,  1.20758521e+00, -1.59091605e+00,\n",
      "        -9.96979735e-01,  1.41365633e+00, -4.90797361e-01,\n",
      "        -1.50490598e+00, -1.57270853e+00, -8.93403963e-01,\n",
      "         2.68889704e+00],\n",
      "       [ 1.08542842e+00,  1.40422679e+00, -7.13638280e-01,\n",
      "        -2.00802414e+00,  9.15497775e-01,  6.74641859e-01,\n",
      "        -1.07497054e+00,  1.70740146e+00,  1.18930241e+00,\n",
      "        -2.72932005e+00],\n",
      "       [-1.24617306e+00, -2.54201484e+00, -1.23532177e+00,\n",
      "        -2.10384824e-01, -8.98057512e-01,  8.71197520e-01,\n",
      "         2.38279424e+00, -1.66802346e+00, -2.44056462e+00,\n",
      "         1.17611855e+00],\n",
      "       [-7.95363419e-01,  6.52418091e-01, -1.59622108e-01,\n",
      "        -3.94544714e-01,  9.92558405e-01,  1.07228074e+00,\n",
      "         1.97276412e+00,  5.18882974e-01, -1.38977271e+00,\n",
      "        -5.74221991e-01],\n",
      "       [ 4.69699230e-01, -1.11541828e+00,  3.97950170e-01,\n",
      "         4.81927177e-01,  3.72598528e-01, -2.01891754e+00,\n",
      "         8.15594508e-02, -2.25853870e-01,  2.16225857e-01,\n",
      "        -1.49138271e+00],\n",
      "       [ 2.18722070e+00, -8.35815127e-01,  1.23385494e-01,\n",
      "         7.55422625e-01, -2.15302166e+00, -1.20257962e+00,\n",
      "        -2.46853744e+00,  1.04451525e+00,  2.12774586e-01,\n",
      "         6.86373310e-01],\n",
      "       [-1.22533469e+00,  6.97632536e-01,  7.99197381e-01,\n",
      "         1.94307580e+00,  8.74513182e-01, -2.99291739e+00,\n",
      "         5.10505966e-01,  9.83179511e-01, -1.47474036e+00,\n",
      "        -2.32682178e+00],\n",
      "       [-4.40805861e-01, -1.58293732e+00, -1.42516645e-01,\n",
      "        -1.16316882e+00,  2.06828892e-01, -1.47147824e+00,\n",
      "         2.01102890e+00, -8.10870215e-01, -2.28853554e+00,\n",
      "         1.03623123e+00],\n",
      "       [-1.15923691e-02,  4.12099796e-01, -2.31648974e+00,\n",
      "         3.86246954e-01,  3.57222846e-01, -4.75215381e-01,\n",
      "         7.05556962e-01,  5.02634933e-01, -2.37179899e-01,\n",
      "        -2.36083908e-01],\n",
      "       [-2.16597845e-01,  3.01533963e-02,  2.05507800e+00,\n",
      "         7.64876923e-01, -1.76505803e+00,  1.54298184e+00,\n",
      "        -1.79926541e+00,  8.74879572e-01, -4.04917389e-03,\n",
      "         1.36788193e+00],\n",
      "       [-1.82045331e+00, -3.35335936e-01, -1.05971475e+00,\n",
      "         4.26325091e-01,  2.80403743e-01,  1.57220258e+00,\n",
      "         2.63807056e-01, -1.36984876e+00,  8.24292111e-01,\n",
      "        -6.09554943e-01],\n",
      "       [-4.61305535e-02, -9.01458141e-01,  9.87625183e-02,\n",
      "         5.58854710e-01, -2.10021954e+00, -1.34931902e+00,\n",
      "        -1.76518806e+00, -1.35817878e-02, -1.90538391e+00,\n",
      "        -2.95203946e+00],\n",
      "       [ 2.52432558e+00,  1.74859411e-02, -1.76906073e+00,\n",
      "         3.37268885e-01, -1.42487533e+00, -2.50022204e-01,\n",
      "        -2.67192843e-01, -6.88249398e-01,  1.83662071e+00,\n",
      "        -4.23427086e-01],\n",
      "       [-1.00034035e-01, -5.56651390e-01, -5.69277893e-01,\n",
      "         6.93844416e-01, -1.01124682e-01,  1.58264635e+00,\n",
      "         4.84223948e-01,  8.22507003e-01, -2.12593964e+00,\n",
      "        -1.27238829e+00]])}\n"
     ]
    }
   ],
   "source": [
    "import pickle\n",
    "\n",
    "weights = {\"w1\": w1, \"w2\": w2, \"w3\": w3}\n",
    "\n",
    "# pickle and store the object\n",
    "# with open(\"model_obj.pickle\", \"wb\") as f:\n",
    "#     pickle.dump(weights, f)\n",
    "\n",
    "# load the object from the pickle file\n",
    "with open(\"model_obj.pickle\", \"rb\") as f:\n",
    "    loaded_obj = pickle.load(f)\n",
    "\n",
    "# test the loaded object\n",
    "print(loaded_obj)  # output: My name is Alice and I'm 25 years old."
   ]
  },
  {
   "cell_type": "code",
   "execution_count": 35,
   "id": "cc7f266b",
   "metadata": {},
   "outputs": [],
   "source": [
    "w1, w2, w3 = loaded_obj[\"w1\"], loaded_obj[\"w2\"], loaded_obj[\"w3\"]"
   ]
  },
  {
   "cell_type": "code",
   "execution_count": 36,
   "id": "d77a8a7f",
   "metadata": {},
   "outputs": [
    {
     "name": "stdout",
     "output_type": "stream",
     "text": [
      "[[0. 0. 0. ... 1. 0. 0.]\n",
      " [0. 0. 1. ... 0. 0. 0.]\n",
      " [0. 1. 0. ... 0. 0. 0.]\n",
      " ...\n",
      " [0. 0. 0. ... 0. 0. 0.]\n",
      " [0. 0. 0. ... 0. 0. 0.]\n",
      " [0. 0. 0. ... 0. 0. 0.]]\n"
     ]
    }
   ],
   "source": [
    "y_test_one_hot = np.zeros((y_test.shape[0], 10), dtype=np.float32)\n",
    "\n",
    "for i, val in enumerate(y_test):\n",
    "    y_test_one_hot[i, val] = 1.0\n",
    "    \n",
    "print(y_test_one_hot)"
   ]
  },
  {
   "cell_type": "code",
   "execution_count": 37,
   "id": "b94de6a1",
   "metadata": {},
   "outputs": [
    {
     "data": {
      "text/plain": [
       "((10000, 784), (10000,), (10000, 10))"
      ]
     },
     "execution_count": 37,
     "metadata": {},
     "output_type": "execute_result"
    }
   ],
   "source": [
    "X_test.shape, y_test.shape, y_test_one_hot.shape"
   ]
  },
  {
   "cell_type": "markdown",
   "id": "880b8ab6",
   "metadata": {},
   "source": [
    "To predict the test dataset, we run one feedforward pass with a batch of size 10,000!"
   ]
  },
  {
   "cell_type": "code",
   "execution_count": 38,
   "id": "8a353611",
   "metadata": {},
   "outputs": [
    {
     "name": "stderr",
     "output_type": "stream",
     "text": [
      "C:\\Users\\abhis\\AppData\\Local\\Temp\\ipykernel_21648\\3104277070.py:6: RuntimeWarning: overflow encountered in exp\n",
      "  a2 = 1/(1 + np.exp(-z2))\n"
     ]
    },
    {
     "data": {
      "text/plain": [
       "array([7, 2, 1, ..., 4, 5, 6], dtype=int64)"
      ]
     },
     "execution_count": 38,
     "metadata": {},
     "output_type": "execute_result"
    }
   ],
   "source": [
    "a1, z2, a2, z3, a3, z4, a4 = compute_forward_pass(X_test)\n",
    "loss = compute_loss(a4, y_test_one_hot)\n",
    "predictions = predict(a4)\n",
    "predictions"
   ]
  },
  {
   "cell_type": "code",
   "execution_count": 39,
   "id": "cccd1e28",
   "metadata": {},
   "outputs": [
    {
     "data": {
      "text/plain": [
       "array([7, 2, 1, ..., 4, 5, 6], dtype=int64)"
      ]
     },
     "execution_count": 39,
     "metadata": {},
     "output_type": "execute_result"
    }
   ],
   "source": [
    "labels = predict(y_test_one_hot)\n",
    "labels"
   ]
  },
  {
   "cell_type": "code",
   "execution_count": 40,
   "id": "a9a38e22",
   "metadata": {},
   "outputs": [],
   "source": [
    "def predict(a4):\n",
    "    prediction = np.argmax(a4, axis=1)\n",
    "    return prediction"
   ]
  },
  {
   "cell_type": "code",
   "execution_count": 41,
   "id": "32a4e607",
   "metadata": {
    "scrolled": true
   },
   "outputs": [
    {
     "name": "stderr",
     "output_type": "stream",
     "text": [
      "C:\\Users\\abhis\\AppData\\Local\\Temp\\ipykernel_21648\\3104277070.py:6: RuntimeWarning: overflow encountered in exp\n",
      "  a2 = 1/(1 + np.exp(-z2))\n"
     ]
    },
    {
     "data": {
      "text/plain": [
       "(4367.251842708593, array([7, 2, 1, ..., 4, 5, 6], dtype=int64))"
      ]
     },
     "execution_count": 41,
     "metadata": {},
     "output_type": "execute_result"
    }
   ],
   "source": [
    "a1, z2, a2, z3, a3, z4, a4 = compute_forward_pass(X_test[:,:])\n",
    "loss = compute_loss(a4, y_test_one_hot[:, :])\n",
    "predictions = predict(a4)\n",
    "loss, predictions"
   ]
  },
  {
   "cell_type": "code",
   "execution_count": 42,
   "id": "3c9b8bb5",
   "metadata": {},
   "outputs": [
    {
     "data": {
      "text/plain": [
       "(600, 100)"
      ]
     },
     "execution_count": 42,
     "metadata": {},
     "output_type": "execute_result"
    }
   ],
   "source": [
    "y_train.shape"
   ]
  },
  {
   "cell_type": "markdown",
   "id": "9b580bd5",
   "metadata": {},
   "source": [
    "## Training and Testing accuracy"
   ]
  },
  {
   "cell_type": "code",
   "execution_count": 43,
   "id": "34c7ca1d",
   "metadata": {},
   "outputs": [
    {
     "name": "stderr",
     "output_type": "stream",
     "text": [
      "C:\\Users\\abhis\\AppData\\Local\\Temp\\ipykernel_21648\\3104277070.py:6: RuntimeWarning: overflow encountered in exp\n",
      "  a2 = 1/(1 + np.exp(-z2))\n"
     ]
    },
    {
     "data": {
      "text/plain": [
       "0.9690666666666666"
      ]
     },
     "execution_count": 43,
     "metadata": {},
     "output_type": "execute_result"
    }
   ],
   "source": [
    "def compute_train_accuracy():\n",
    "    X_train, y_train, X_test, y_test = load()\n",
    "    y_train_one_hot = np.zeros((y_train.shape[0], 10), dtype=np.float32)\n",
    "\n",
    "    for i, val in enumerate(y_train):\n",
    "        y_train_one_hot[i, val] = 1.0\n",
    "        \n",
    "    a1, z2, a2, z3, a3, z4, a5 = compute_forward_pass(X_train)\n",
    "\n",
    "    s1 = predict(y_train_one_hot[:, :])\n",
    "    s2 = predict(a5)\n",
    "\n",
    "    right = 0\n",
    "    for i in range(len(s2)):\n",
    "        if s1[i] == s2[i]:\n",
    "            right+=1\n",
    "    return right/len(s2)\n",
    "\n",
    "compute_train_accuracy()"
   ]
  },
  {
   "cell_type": "code",
   "execution_count": 44,
   "id": "6e811c65",
   "metadata": {},
   "outputs": [
    {
     "data": {
      "text/plain": [
       "0.9428"
      ]
     },
     "execution_count": 44,
     "metadata": {},
     "output_type": "execute_result"
    }
   ],
   "source": [
    "def compute_test_accuracy():\n",
    "    s1 = predict(y_test_one_hot[:, :])\n",
    "    s2 = predict(a4)\n",
    "    right = 0\n",
    "    for i in range(len(s2)):\n",
    "        if s1[i] == s2[i]:\n",
    "            right+=1\n",
    "    return right/len(s2)\n",
    "\n",
    "compute_test_accuracy()"
   ]
  },
  {
   "cell_type": "markdown",
   "id": "8a0164fa",
   "metadata": {},
   "source": [
    "## Conclusion\n",
    "\n",
    "- We learned how to train and build a neural network model from scratch to classify MNIST dataset.\n",
    "- We achieved a very good training accuracy of 96% and test accuracy of 94%"
   ]
  }
 ],
 "metadata": {
  "kernelspec": {
   "display_name": "Python 3 (ipykernel)",
   "language": "python",
   "name": "python3"
  },
  "language_info": {
   "codemirror_mode": {
    "name": "ipython",
    "version": 3
   },
   "file_extension": ".py",
   "mimetype": "text/x-python",
   "name": "python",
   "nbconvert_exporter": "python",
   "pygments_lexer": "ipython3",
   "version": "3.9.13"
  }
 },
 "nbformat": 4,
 "nbformat_minor": 5
}
